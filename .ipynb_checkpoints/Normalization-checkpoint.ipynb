{
 "cells": [
  {
   "cell_type": "code",
   "execution_count": 5,
   "metadata": {},
   "outputs": [],
   "source": [
    "from matplotlib import pyplot\n",
    "import numpy as np\n",
    "import pandas as pd\n",
    "from sklearn.preprocessing import MinMaxScaler"
   ]
  },
  {
   "cell_type": "markdown",
   "metadata": {},
   "source": [
    "## Define Normalization Function"
   ]
  },
  {
   "cell_type": "code",
   "execution_count": 6,
   "metadata": {},
   "outputs": [],
   "source": [
    "def normalize(data):\n",
    "    y = pd.to_numeric(data)\n",
    "    y = np.array(y.reshape(-1, 1))\n",
    "    \n",
    "    scaler = MinMaxScaler()\n",
    "    y = scaler.fit_transform(y)\n",
    "    y = y.reshape(1, -1)[0]\n",
    "    return y"
   ]
  },
  {
   "cell_type": "markdown",
   "metadata": {},
   "source": [
    "## Read Dataset (Flood)"
   ]
  },
  {
   "cell_type": "code",
   "execution_count": 9,
   "metadata": {},
   "outputs": [],
   "source": [
    "# Read the dataset\n",
    "ROAD = \"Taft Ave.\"\n",
    "YEAR = \"2015\"\n",
    "EXT = \".csv\"\n",
    "#FILENAME = \"merged_mmda_wwo_\" + ROAD + \"_\" + YEAR\n",
    "FILENAME = \"interpolated_flood_pagasa_\" + YEAR\n",
    "FOLDER = \"flood\"\n",
    "data = pd.read_csv(\"data/\" + FOLDER + \"/\" + FILENAME + EXT, skipinitialspace=True)"
   ]
  },
  {
   "cell_type": "code",
   "execution_count": 17,
   "metadata": {},
   "outputs": [
    {
     "data": {
      "text/plain": [
       "35040"
      ]
     },
     "execution_count": 17,
     "metadata": {},
     "output_type": "execute_result"
    }
   ],
   "source": [
    "(24*4*365)"
   ]
  },
  {
   "cell_type": "code",
   "execution_count": 20,
   "metadata": {},
   "outputs": [
    {
     "data": {
      "text/plain": [
       "0        21.830\n",
       "1        21.830\n",
       "2        21.830\n",
       "3        21.830\n",
       "4        21.830\n",
       "5        21.830\n",
       "6        21.830\n",
       "7        21.830\n",
       "8        21.830\n",
       "9        21.830\n",
       "10       21.830\n",
       "11       21.830\n",
       "12       21.830\n",
       "13       21.830\n",
       "14       21.830\n",
       "15       21.830\n",
       "16       21.830\n",
       "17       21.830\n",
       "18       21.830\n",
       "19       21.830\n",
       "20       21.830\n",
       "21       21.830\n",
       "22       21.830\n",
       "23       21.830\n",
       "24       21.830\n",
       "25       21.830\n",
       "26       21.830\n",
       "27       21.830\n",
       "28       21.830\n",
       "29       21.830\n",
       "          ...  \n",
       "35010    21.040\n",
       "35011    21.040\n",
       "35012    21.040\n",
       "35013    21.040\n",
       "35014    21.040\n",
       "35015    21.040\n",
       "35016    21.040\n",
       "35017    21.040\n",
       "35018    21.040\n",
       "35019    21.040\n",
       "35020    21.040\n",
       "35021    21.040\n",
       "35022    21.040\n",
       "35023    21.040\n",
       "35024    21.040\n",
       "35025    21.040\n",
       "35026    21.040\n",
       "35027    21.040\n",
       "35028    21.040\n",
       "35029    21.040\n",
       "35030    21.040\n",
       "35031    21.040\n",
       "35032    21.040\n",
       "35033    21.040\n",
       "35034    21.040\n",
       "35035    21.040\n",
       "35036    21.040\n",
       "35037    21.040\n",
       "35038    21.040\n",
       "35039    16.115\n",
       "Name: WL [El.m], Length: 35040, dtype: float64"
      ]
     },
     "execution_count": 20,
     "metadata": {},
     "output_type": "execute_result"
    }
   ],
   "source": [
    "data.iloc[0:(24*4*365), 1]"
   ]
  }
 ],
 "metadata": {
  "kernelspec": {
   "display_name": "Python 3",
   "language": "python",
   "name": "python3"
  },
  "language_info": {
   "codemirror_mode": {
    "name": "ipython",
    "version": 3
   },
   "file_extension": ".py",
   "mimetype": "text/x-python",
   "name": "python",
   "nbconvert_exporter": "python",
   "pygments_lexer": "ipython3",
   "version": "3.5.4"
  }
 },
 "nbformat": 4,
 "nbformat_minor": 2
}
